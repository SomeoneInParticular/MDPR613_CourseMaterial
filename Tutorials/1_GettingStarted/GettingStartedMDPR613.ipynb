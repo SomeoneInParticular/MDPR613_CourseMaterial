{
 "cells": [
  {
   "cell_type": "markdown",
   "metadata": {},
   "source": [
    "# Setting Up JupyterHub for MDPR 613"
   ]
  },
  {
   "cell_type": "markdown",
   "metadata": {
    "jp-MarkdownHeadingCollapsed": true,
    "tags": []
   },
   "source": [
    "## Logging into TALC\n",
    "\n",
    "To load an interactive JupyterHub instance on TALC, you must be either on a University of Calgary campus's WiFi connection, or on the University of Calgary's FortiClient VPN. Instructions on how to set up the VPN on your OS are available [here](https://rcs.ucalgary.ca/Connecting_to_RCS_HPC_Systems#Connecting_to_the_University_IT_General_VPN)\n",
    "\n",
    "Once on the VPN (or on Campus WiFi), open a terminal (`command prompt` on Windows, `terminal` on MacOS and Linux) and submit the following command to log into TALC remotely (replacing `your`):\n",
    "\n",
    "`ssh your.username@ucalgary.ca`\n",
    "\n",
    "Once submitted, it should request your password. Type it in and press enter. **NOTE: when typing in your password, the cursor will not move or change. This is intentional, and does not mean the password has not been entered.**\n",
    "\n",
    "It should then prompt you with a large \"terms of service\" request. Simply hit `Enter` until a prompt requesting you to accept the terms of service appears. Type `y` and hit `Enter` to accept the terms of service.\n",
    "\n",
    "You should then be able to log into TALC after a short delay by going to [this](talc.ucalgary.ca:8000) website and logging-in on with your University of Calgary credentials."
   ]
  },
  {
   "cell_type": "markdown",
   "metadata": {},
   "source": [
    "## Setting Up the Directory\n",
    "\n",
    "Once logged in to the JupyterHub web page, create a folder named `MDPR_613` via the following: \n",
    "    \n",
    " 1. Click `New` on the top right of the web page\n",
    " 2. Select `Folder`. This should result in a new directory called `Untitled Folder` appearing\n",
    " 3. Select the checkbox next to the folder\n",
    " 4. Click `Rename` at the top left of the web page, and name the directory to `MDPR_613`"
   ]
  },
  {
   "cell_type": "markdown",
   "metadata": {
    "tags": []
   },
   "source": [
    "## Preparing the Workspace Environment\n",
    "\n",
    "You should now be able to navigate inside the directory by double clicking on it. Do so, and upload the `environment.txt` and `GettingStartedMDPR613.ipynb` files found on D2L using the `upload` button on the top right of the web page. Once they have been uploaded, do the following to load this notebook with our programming environment:\n",
    " \n",
    " 1. Open a terminal by clicking `New -> Terminal`\n",
    " 2. Enter the directory we created prior by typing `cd MDPR_613` in the terminal, and pressing *`Enter`* to submit the command. This gets the command line to act within that directory\n",
    " 3. Type the following into the same terminal, and hit *`Enter`* to submit it: `conda create --name MDPR_Course --file environment.txt`. This will create an environment with all the packages specified within `environment.txt`. *This can take several minutes to run; be patient, and accept the install request if prompted.* If the prior fails to run, try the `conda create --name MDPR_Course --file environment.txt` command instead\n",
    " 4. Once the prior process is done, activate this new environment by submitting the `source activate MDPR_Course` command. This should change the terminal so that `(MDPR_Course)` appears to the left of your username\n",
    " 5. Install the `fairlearn` package by submitting `pip install fairlearn` into the console. This command allows for the installation of custom packages which are unavailable or do not function within `conda`\n",
    " 6. You can then allow Jupyter to use this environment with the `python -m ipykernel install --user --name=MDPR_Course` command, also submitted into the terminal"
   ]
  },
  {
   "cell_type": "markdown",
   "metadata": {
    "tags": []
   },
   "source": [
    "## Running the Notebook with the Environment\n",
    "\n",
    "Once the environment is set up and made accessible to Jupyter, we can then request that a notebook uses it by selecting it as our 'kernel'. To do so, do the following when you have a Jupyter Notebook open in your web browser:\n",
    "\n",
    " 1. Open the interactive version of this notebook by double clicking on `GettingStartedMDPR613.ipynb`. This should open a new tab\n",
    " 2. Select `Kernel` from the menu along the top of the Notebook's tab\n",
    " 3. From the resulting drop-down menu, select `Change Kernel -> MDPR_Course` (the name we gave the environment in the prior commands)\n",
    " \n",
    "All future notebooks should now load this kernel when opened from here on out, including this one. \n",
    "\n",
    "If everything was done correctly, the following code should produce the string `1.1.3` when run (rather than the `0.23.4` shown below). To run the code block, select it with your mouse and press `Shift + Enter`."
   ]
  },
  {
   "cell_type": "code",
   "execution_count": 1,
   "metadata": {},
   "outputs": [
    {
     "data": {
      "text/plain": [
       "'0.23.4'"
      ]
     },
     "execution_count": 1,
     "metadata": {},
     "output_type": "execute_result"
    }
   ],
   "source": [
    "import pandas as pd\n",
    "pd.__version__"
   ]
  }
 ],
 "metadata": {
  "kernelspec": {
   "display_name": "Python 3 (ipykernel)",
   "language": "python",
   "name": "python3"
  },
  "language_info": {
   "codemirror_mode": {
    "name": "ipython",
    "version": 3
   },
   "file_extension": ".py",
   "mimetype": "text/x-python",
   "name": "python",
   "nbconvert_exporter": "python",
   "pygments_lexer": "ipython3",
   "version": "3.8.13"
  }
 },
 "nbformat": 4,
 "nbformat_minor": 4
}

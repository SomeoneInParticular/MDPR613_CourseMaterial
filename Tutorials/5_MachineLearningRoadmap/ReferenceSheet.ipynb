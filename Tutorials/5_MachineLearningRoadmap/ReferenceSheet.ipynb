{
 "cells": [
  {
   "cell_type": "markdown",
   "id": "67ab47da-5d6c-4b34-9def-eeb2382880d7",
   "metadata": {},
   "source": [
    "# Command Reference Sheet"
   ]
  },
  {
   "cell_type": "markdown",
   "id": "3884d122-6efd-48bf-a4f1-37e70fcad962",
   "metadata": {},
   "source": [
    "## Step 1: Data Preparation\n",
    "\n",
    "### Importing our Data"
   ]
  },
  {
   "cell_type": "markdown",
   "id": "3a79c17b-c34c-49ad-80d1-ae2a07e97e0b",
   "metadata": {},
   "source": [
    "`read_csv`:\n",
    "```python\n",
    "import pandas as pd\n",
    "\n",
    "df = pd.read_csv('file_name.csv')\n",
    "```"
   ]
  },
  {
   "cell_type": "markdown",
   "id": "30504e70-fdaf-43f5-ba1e-7b36e40c63e5",
   "metadata": {},
   "source": [
    "`read_excel`:\n",
    "```python\n",
    "import pandas as pd\n",
    "\n",
    "df = pd.read_excel('file_name.xls')\n",
    "```"
   ]
  },
  {
   "cell_type": "markdown",
   "id": "5208b251-9013-42c8-8b27-0221dd85ef9f",
   "metadata": {},
   "source": [
    "`read_json`:\n",
    "```python\n",
    "import pandas as pd\n",
    "\n",
    "df = pd.read_json('file_name.json')\n",
    "```"
   ]
  },
  {
   "cell_type": "markdown",
   "id": "90219340-875b-4644-b1e6-5aef7d6d87f0",
   "metadata": {},
   "source": [
    "### Cleaning the Data"
   ]
  },
  {
   "cell_type": "markdown",
   "id": "4ede0abe-63be-4eed-8889-13be0d03ce68",
   "metadata": {},
   "source": [
    "`dropna`:\n",
    "```python\n",
    "df = df.dropna()\n",
    "```"
   ]
  },
  {
   "cell_type": "markdown",
   "id": "2c564987-3470-4fe9-bbf5-c00e557713f6",
   "metadata": {},
   "source": [
    "`SimpleImputer`\n",
    "```python\n",
    "from sklearn.impute import SimpleImputer\n",
    "import numpy as np\n",
    "\n",
    "imputer = SimpleImputer(missing_values=[np.nan], strategy='mean')\n",
    "df = imputer.fit_transform(df)\n",
    "```"
   ]
  },
  {
   "cell_type": "markdown",
   "id": "e1b0109e-62b7-48ce-9a8a-78f872a53543",
   "metadata": {},
   "source": [
    "### Preparing Data"
   ]
  },
  {
   "cell_type": "markdown",
   "id": "c5a6e612-7a5d-496b-ad5e-c119388e716f",
   "metadata": {},
   "source": [
    "`sklearn.preprocessing.normalize`\n",
    "```python\n",
    "from sklearn.preprocessing import normalize\n",
    "\n",
    "tmp_cols = df_feature.columns\n",
    "df_feature = normalize(df_feature, axis=0)\n",
    "\n",
    "# Reconstruct the dataframe\n",
    "df_feature = pd.DataFrame(data=df_feature, columns=tmp_cols)\n",
    "del tmp_cols\n",
    "```"
   ]
  },
  {
   "cell_type": "markdown",
   "id": "6564e777-2e99-4c4d-9b37-8891d1ec1e2a",
   "metadata": {},
   "source": [
    "`sklearn.feature_selection.VarianceThreshold`\n",
    "```python\n",
    "from sklearn.feature_selection import VarianceThreshold\n",
    "selector = VarianceThreshold()\n",
    "selector.fit_transform(df_feature)\n",
    "\n",
    "# Reconstruct the dataframe\n",
    "df_feature = pd.DataFrame(data=df_feature, columns=selector.feature_names_in_)\n",
    "```"
   ]
  },
  {
   "cell_type": "markdown",
   "id": "fee7e6a8-7a1e-4401-955e-67df9ed3cad0",
   "metadata": {},
   "source": [
    "`sklearn.feature_selection.SelectKBest`\n",
    "```python\n",
    "from sklearn.feature_selection import SelectKBest\n",
    "\n",
    "selector = SelectKBest()\n",
    "df_feature = selector.fit_transform(df_feature, k=5) # Change 'k' to be the number of features you want to conserve\n",
    "\n",
    "# Reconstruct the dataframe\n",
    "df_feature = pd.DataFrame(data=df_feature, columns=selector.feature_names_in_)\n",
    "```"
   ]
  },
  {
   "cell_type": "markdown",
   "id": "1452dafb-f00b-43f9-bb1a-55e4f63e3075",
   "metadata": {},
   "source": [
    "`sklearn.feature_selection.SelectPercentile`\n",
    "```python\n",
    "from sklearn.feature_selection import SelectPercentile\n",
    "\n",
    "selector = SelectPercentile()\n",
    "df_feature = selector.fit_transform(df_feature, percentile=0.5) # Change 'percentile' to be the proportion you want to conserve\n",
    "\n",
    "# Reconstruct the dataframe\n",
    "df_feature = pd.DataFrame(data=df_feature, columns=selector.feature_names_in_)\n",
    "```"
   ]
  },
  {
   "cell_type": "markdown",
   "id": "e6713596-eb4e-436a-9cae-36c0e67ceb3d",
   "metadata": {},
   "source": [
    "`sklearn.decomposition.PCA`\n",
    "```python\n",
    "from sklearn.decomposition import PCA\n",
    "\n",
    "reducer = PCA(n_components=10) # Change 'n_components' to be the number of features you want (1 or more), OR a proportion of variance you want conserve (0 to 1)\n",
    "df_feature = reducer.fit_transform(df_feature)\n",
    "\n",
    "# Restore it to dataframe format\n",
    "col_names = []\n",
    "for i in range(5):\n",
    "    col_names.append(f\"pc{i}\")\n",
    "\n",
    "df_feature = pd.DataFrame(data=df_feature, columns=col_names)\n",
    "```"
   ]
  },
  {
   "cell_type": "markdown",
   "id": "4111815d-e051-4f6d-ad1a-4f9c3cde301c",
   "metadata": {},
   "source": [
    "`sklearn.decomposition.LinearDiscriminantAnalysis`\n",
    "```python\n",
    "from sklearn.decomposition import LinearDiscriminantAnalysis as LDA\n",
    "\n",
    "reducer = LDA(n_components=10) # Change 'n_components' to be the number of features you want (1 or more)\n",
    "df_feature = reducer.fit_transform(df_feature)\n",
    "\n",
    "# Restore it to dataframe format\n",
    "col_names = []\n",
    "for i in range(5):\n",
    "    col_names.append(f\"ld{i}\")\n",
    "\n",
    "df_feature = pd.DataFrame(data=df_feature, columns=col_names)\n",
    "```"
   ]
  },
  {
   "cell_type": "markdown",
   "id": "97ded40c-f1ce-465f-a766-286eb53140d6",
   "metadata": {},
   "source": [
    "`sklearn.preprocessing.LabelEncoder`\n",
    "```python\n",
    "from sklearn.preprocessing import LabelEncoder\n",
    "\n",
    "encoder = LabelEncoder() # Change 'n_components' to be the number of features you want (1 or more)\n",
    "df_target = encoder.fit_transform(df_target)\n",
    "```"
   ]
  },
  {
   "cell_type": "markdown",
   "id": "6ec11d26-75ae-4f83-91c3-7f65cf8506c1",
   "metadata": {},
   "source": [
    "## Model Selection and Training"
   ]
  },
  {
   "cell_type": "markdown",
   "id": "41da7f8d-48a9-4873-b0d9-256d93da2d32",
   "metadata": {},
   "source": [
    "### Train-Test Split"
   ]
  },
  {
   "cell_type": "markdown",
   "id": "b766c8b4-026c-4082-8347-544872371f75",
   "metadata": {},
   "source": [
    "`sklearn.model_selection.train_test_split`\n",
    "```python\n",
    "from sklearn.model_selection import train_test_split\n",
    "\n",
    "df_feature_train, df_feature_test, df_target_train, df_target_test = train_test_split(df_feature, df_target)\n",
    "```"
   ]
  },
  {
   "cell_type": "markdown",
   "id": "497cefc6-bda4-4946-80f9-3840be3d858e",
   "metadata": {},
   "source": [
    "### Continuous Models"
   ]
  },
  {
   "cell_type": "markdown",
   "id": "8a1ae9e1-e12a-4702-b391-1ae35ba9b366",
   "metadata": {},
   "source": [
    "`sklearn.linear_model.LinearRegression`\n",
    "```python\n",
    "from sklearn.linear_model import LinearRegression\n",
    "\n",
    "model = LinearRegression()\n",
    "model.fit(df_feature_train, df_target_train)\n",
    "```"
   ]
  },
  {
   "cell_type": "markdown",
   "id": "12b7ba29-94ed-4b27-8773-8c0fcca1d514",
   "metadata": {},
   "source": [
    "`sklearn.svm.SVR`\n",
    "```python\n",
    "from sklearn.svm import SVR\n",
    "\n",
    "model = SVR()\n",
    "model.fit(df_feature_train, df_target_train)\n",
    "```"
   ]
  },
  {
   "cell_type": "markdown",
   "id": "5a9c8ccf-6a58-460b-8b37-00ff43dd0123",
   "metadata": {},
   "source": [
    "`sklearn.ensemble.RandomForestRegressor`\n",
    "```python\n",
    "from sklearn.ensemble import RandomForestRegressor\n",
    "\n",
    "model = RandomForestRegressor()\n",
    "model.fit(df_feature_train, df_target_train)\n",
    "```"
   ]
  },
  {
   "cell_type": "markdown",
   "id": "4d270e86-275d-4080-baf7-5d167b2e36bd",
   "metadata": {},
   "source": [
    "### Categorical Models"
   ]
  },
  {
   "cell_type": "markdown",
   "id": "1728b516-48a3-40c5-9538-49873896902c",
   "metadata": {},
   "source": [
    "`sklearn.linear_model.LogisticRegression`\n",
    "```python\n",
    "from sklearn.linear_model import LogisticRegression\n",
    "\n",
    "model = LogisticRegression()\n",
    "model.fit(df_feature_train, df_target_train)\n",
    "```"
   ]
  },
  {
   "cell_type": "markdown",
   "id": "c96a1439-c446-4b39-a1a0-47bab6cc8aea",
   "metadata": {},
   "source": [
    "`sklearn.svm.SVC`\n",
    "```python\n",
    "from sklearn.svm import SVC\n",
    "\n",
    "model = SVC()\n",
    "model.fit(df_feature_train, df_target_train)\n",
    "```"
   ]
  },
  {
   "cell_type": "markdown",
   "id": "5c3965f6-4c1e-4ba0-ad35-994a059e771e",
   "metadata": {},
   "source": [
    "`sklearn.ensemble.RandomForestClassifier`\n",
    "```python\n",
    "from sklearn.ensemble import RandomForestClassifier\n",
    "\n",
    "model = RandomForestClassifier()\n",
    "model.fit(df_feature_train, df_target_train)\n",
    "```"
   ]
  },
  {
   "cell_type": "markdown",
   "id": "1a594eec-8ac3-4fb8-91f8-b307ce3f4b56",
   "metadata": {},
   "source": [
    "## Model Evaluation"
   ]
  },
  {
   "cell_type": "markdown",
   "id": "1d392dd3-e240-4f2d-965c-89ebbdd81b1d",
   "metadata": {},
   "source": [
    "### Continuous Evaluations"
   ]
  },
  {
   "cell_type": "markdown",
   "id": "f8865f66-0d35-4c54-a068-d1cc98828de4",
   "metadata": {},
   "source": [
    "`sklearn.metrics.mean_squared_error`\n",
    "```python\n",
    "from sklearn.metrics import mean_squared_error\n",
    "\n",
    "model_predicted_test = model.predict(df_feature_train)\n",
    "print(mean_squared_error(model_predicted_test, df_test_target))\n",
    "```"
   ]
  },
  {
   "cell_type": "markdown",
   "id": "0cf37f33-c12e-4725-a728-d163bf531251",
   "metadata": {},
   "source": [
    "`sklearn.metrics.mean_absolute_error`\n",
    "```python\n",
    "from sklearn.metrics import mean_absolute_error\n",
    "\n",
    "model_predicted_test = model.predict(df_feature_train)\n",
    "print(mean_absolute_error(model_predicted_test, df_test_target))\n",
    "```"
   ]
  },
  {
   "cell_type": "markdown",
   "id": "c025a97e-3d84-436a-a3df-f7e20287a356",
   "metadata": {},
   "source": [
    "`sklearn.metrics.r2_score`\n",
    "```python\n",
    "from sklearn.metrics import r2_score\n",
    "\n",
    "model_predicted_test = model.predict(df_feature_train)\n",
    "print(r2_score(model_predicted_test, df_test_target))\n",
    "```"
   ]
  },
  {
   "cell_type": "markdown",
   "id": "f7d028c0-db06-4ebb-b038-478541fc6261",
   "metadata": {},
   "source": [
    "### Categorical Evaluations"
   ]
  },
  {
   "cell_type": "markdown",
   "id": "fb11c314-e18c-43e9-b1a0-74063e51d355",
   "metadata": {},
   "source": [
    "`sklearn.metrics.accuracy_score`\n",
    "```python\n",
    "from sklearn.metrics import accuracy_score\n",
    "\n",
    "model_predicted_test = model.predict(df_feature_train)\n",
    "print(accuracy_score(model_predicted_test, df_test_target))\n",
    "```"
   ]
  },
  {
   "cell_type": "markdown",
   "id": "13b8ba3d-1600-42ec-9a2e-82383bd8657f",
   "metadata": {},
   "source": [
    "`sklearn.metrics.accuracy_score`\n",
    "```python\n",
    "from sklearn.metrics import balanced_accuracy_score\n",
    "\n",
    "model_predicted_test = model.predict(df_feature_train)\n",
    "print(balanced_accuracy_score(model_predicted_test, df_test_target))\n",
    "```"
   ]
  },
  {
   "cell_type": "markdown",
   "id": "d3263f4d-2744-4ab8-bc0e-eb11663e91ad",
   "metadata": {},
   "source": [
    "`sklearn.metrics.roc_auc_score`\n",
    "```python\n",
    "from sklearn.metrics import roc_auc_score\n",
    "\n",
    "model_predicted_test = model.predict(df_feature_train)\n",
    "print(roc_auc_score(model_predicted_test, df_test_target))\n",
    "```"
   ]
  },
  {
   "cell_type": "markdown",
   "id": "e70536e2-330a-4e76-9f55-3e066dd59696",
   "metadata": {},
   "source": [
    "`sklearn.metrics.recall_score`\n",
    "```python\n",
    "from sklearn.metrics import recall_score\n",
    "\n",
    "model_predicted_test = model.predict(df_feature_train)\n",
    "print(recall_score(model_predicted_test, df_test_target))\n",
    "```"
   ]
  },
  {
   "cell_type": "markdown",
   "id": "1a0b896e-4c01-48a2-a84b-e54d2d4da23c",
   "metadata": {},
   "source": [
    "`sklearn.metrics.precision_score`\n",
    "```python\n",
    "from sklearn.metrics import precision_score\n",
    "\n",
    "model_predicted_test = model.predict(df_feature_train)\n",
    "print(precision_score(model_predicted_test, df_test_target))\n",
    "```"
   ]
  },
  {
   "cell_type": "markdown",
   "id": "a26bc444-0462-40e8-9423-343c81fda669",
   "metadata": {},
   "source": [
    "`sklearn.metrics.classification_report`\n",
    "```python\n",
    "from sklearn.metrics import classification_report\n",
    "\n",
    "model_predicted_test = model.predict(df_feature_train)\n",
    "print(classification_report(model_predicted_test, df_test_target))\n",
    "```"
   ]
  }
 ],
 "metadata": {
  "kernelspec": {
   "display_name": "Python 3 (ipykernel)",
   "language": "python",
   "name": "python3"
  },
  "language_info": {
   "codemirror_mode": {
    "name": "ipython",
    "version": 3
   },
   "file_extension": ".py",
   "mimetype": "text/x-python",
   "name": "python",
   "nbconvert_exporter": "python",
   "pygments_lexer": "ipython3",
   "version": "3.8.13"
  }
 },
 "nbformat": 4,
 "nbformat_minor": 5
}

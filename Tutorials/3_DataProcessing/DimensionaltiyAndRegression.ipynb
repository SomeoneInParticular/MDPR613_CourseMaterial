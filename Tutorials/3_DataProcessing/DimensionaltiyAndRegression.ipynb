{
 "cells": [
  {
   "cell_type": "markdown",
   "id": "dace4257-ffc8-480f-bfe2-3ae08a8f8f58",
   "metadata": {},
   "source": [
    "# Dimensionality and Regression"
   ]
  },
  {
   "cell_type": "markdown",
   "id": "6740120d-b71e-4623-b530-0a3606597a70",
   "metadata": {
    "jp-MarkdownHeadingCollapsed": true,
    "tags": []
   },
   "source": [
    "## What is Data Dimensionality?\n",
    "\n",
    "Values within a dataset, much like co-ordinates on a piece of paper, are often used to represent a \"position\" within the full range of available data. As such, features within a dataset are often reffered to interchangeably as a \"dimension\" within that data. As such, the number of features a dataset has can be used to describe how many dimensions it has as well. Approaching data this way allows us to better grasp how data can be worked with, and how we can transform it to better suit our needs.\n",
    "\n",
    "However, just like a 20 dimensional plot is near impossible to understand and interpret, data with too many dimensions can be come unweildy to work with and lead to confusion. Machine learning systems are just as prone to this confusion as we are, and as such a number of techniques in \"dimensionality reduction\" for data have been devised"
   ]
  },
  {
   "cell_type": "markdown",
   "id": "2da6b637-9f75-47f7-a098-8a7eb960cd44",
   "metadata": {},
   "source": [
    "## Dimensionality Reduction\n",
    "\n",
    "Due to how machine learning systems are designed, they are prone to a number of "
   ]
  },
  {
   "cell_type": "markdown",
   "id": "5f5aa936-81a9-4b84-8d6d-5b86b2de41c4",
   "metadata": {},
   "source": [
    "### Option 1; Feature Selection\n",
    "\n"
   ]
  },
  {
   "cell_type": "markdown",
   "id": "6f9e952a-3369-46ea-8341-a9c9f78459c7",
   "metadata": {},
   "source": [
    "### Option 2; Feature Transformation\n",
    "\n"
   ]
  },
  {
   "cell_type": "markdown",
   "id": "3bf2eaf3-5215-4fa8-805d-e10c1c6f8d12",
   "metadata": {},
   "source": []
  },
  {
   "cell_type": "code",
   "execution_count": null,
   "id": "838263bd-040a-4faf-9893-c705f150fd05",
   "metadata": {},
   "outputs": [],
   "source": []
  }
 ],
 "metadata": {
  "kernelspec": {
   "display_name": "MDPR_Course",
   "language": "python",
   "name": "mdpr_course"
  },
  "language_info": {
   "codemirror_mode": {
    "name": "ipython",
    "version": 3
   },
   "file_extension": ".py",
   "mimetype": "text/x-python",
   "name": "python",
   "nbconvert_exporter": "python",
   "pygments_lexer": "ipython3",
   "version": "3.8.13"
  }
 },
 "nbformat": 4,
 "nbformat_minor": 5
}
